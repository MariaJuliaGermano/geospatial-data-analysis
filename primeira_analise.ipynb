{
 "cells": [
  {
   "cell_type": "code",
   "execution_count": 29,
   "metadata": {},
   "outputs": [],
   "source": [
    "import pandas as pd\n",
    "import os"
   ]
  },
  {
   "cell_type": "code",
   "execution_count": 1,
   "metadata": {},
   "outputs": [
    {
     "name": "stdout",
     "output_type": "stream",
     "text": [
      "Maria Julia\n"
     ]
    }
   ],
   "source": [
    "print(\"Maria Julia\")"
   ]
  },
  {
   "cell_type": "code",
   "execution_count": 5,
   "metadata": {},
   "outputs": [],
   "source": [
    "df = pd.read_excel(\"datasets/ivv-dezembro.xlsx\", engine=\"openpyxl\")"
   ]
  },
  {
   "cell_type": "code",
   "execution_count": 8,
   "metadata": {},
   "outputs": [
    {
     "name": "stdout",
     "output_type": "stream",
     "text": [
      "c:\\Users\\maria\\Pessoal\\projetos\\geospatial-data-analysis\n"
     ]
    }
   ],
   "source": [
    "print(os.getcwd())"
   ]
  },
  {
   "cell_type": "code",
   "execution_count": 9,
   "metadata": {},
   "outputs": [
    {
     "data": {
      "text/html": [
       "<div>\n",
       "<style scoped>\n",
       "    .dataframe tbody tr th:only-of-type {\n",
       "        vertical-align: middle;\n",
       "    }\n",
       "\n",
       "    .dataframe tbody tr th {\n",
       "        vertical-align: top;\n",
       "    }\n",
       "\n",
       "    .dataframe thead th {\n",
       "        text-align: right;\n",
       "    }\n",
       "</style>\n",
       "<table border=\"1\" class=\"dataframe\">\n",
       "  <thead>\n",
       "    <tr style=\"text-align: right;\">\n",
       "      <th></th>\n",
       "      <th>Responsavel</th>\n",
       "      <th>Data da Coleta</th>\n",
       "      <th>Nome do Empreendimento</th>\n",
       "      <th>Construtora /Incorporadora</th>\n",
       "      <th>Cidade</th>\n",
       "      <th>Bairro</th>\n",
       "      <th>Endereço</th>\n",
       "      <th>CEP</th>\n",
       "      <th>Latitude</th>\n",
       "      <th>Longitude</th>\n",
       "      <th>...</th>\n",
       "      <th>Tamanho dos terrenos</th>\n",
       "      <th>N° de pavimentos</th>\n",
       "      <th>Quantidade de imóvel por andar</th>\n",
       "      <th>Quantidade de torres</th>\n",
       "      <th>Forma de Pagamento</th>\n",
       "      <th>Caracterização da Área de Lazer</th>\n",
       "      <th>Infraestrutura / Segurança</th>\n",
       "      <th>Nível de Acabamento</th>\n",
       "      <th>OBSERVAÇÃO</th>\n",
       "      <th>RESPONSÁVEL</th>\n",
       "    </tr>\n",
       "  </thead>\n",
       "  <tbody>\n",
       "    <tr>\n",
       "      <th>0</th>\n",
       "      <td>Claudiane</td>\n",
       "      <td>2025-01-06</td>\n",
       "      <td>Condomínio Alameda do Frio</td>\n",
       "      <td>ACLF Empreendimentos</td>\n",
       "      <td>Paulista</td>\n",
       "      <td>Jardim Paulista Aurora</td>\n",
       "      <td>Estrada do Frio - Aurora, Paulista - PE</td>\n",
       "      <td>53401-010</td>\n",
       "      <td>-7946728444979800</td>\n",
       "      <td>-34885915517807000</td>\n",
       "      <td>...</td>\n",
       "      <td>25800</td>\n",
       "      <td>7</td>\n",
       "      <td>4</td>\n",
       "      <td>17</td>\n",
       "      <td>Produto \"Minha Casa Minha Vida\" - Sinal de 3 a...</td>\n",
       "      <td>Academia, bicicletários, espaço estar/contempl...</td>\n",
       "      <td>100% de bagas de garagem, guaritas.</td>\n",
       "      <td>sala pra dois amabientes, cozinha isolada, esp...</td>\n",
       "      <td>100% Vendido</td>\n",
       "      <td>Claudiane</td>\n",
       "    </tr>\n",
       "    <tr>\n",
       "      <th>1</th>\n",
       "      <td>Claudiane</td>\n",
       "      <td>2025-01-06</td>\n",
       "      <td>Alameda dos Corais</td>\n",
       "      <td>ACLF Empreendimentos</td>\n",
       "      <td>Paulista</td>\n",
       "      <td>Nossa Sra. da Conceição</td>\n",
       "      <td>Rua Papa João Paulo I , s/n.</td>\n",
       "      <td>53429-445</td>\n",
       "      <td>-7889291572553370</td>\n",
       "      <td>-34827309039381700</td>\n",
       "      <td>...</td>\n",
       "      <td>-</td>\n",
       "      <td>15</td>\n",
       "      <td>4</td>\n",
       "      <td>5</td>\n",
       "      <td>Produto \"Minha Casa Minha Vida\" - Sinal R$: 6....</td>\n",
       "      <td>Campo de Futebol; Pet Place; Salão de Festa; E...</td>\n",
       "      <td>Portaria; Sistema de Segurança; Interfone.</td>\n",
       "      <td>-</td>\n",
       "      <td>Usamos de referência o apartamento 303 para cá...</td>\n",
       "      <td>Claudiane</td>\n",
       "    </tr>\n",
       "    <tr>\n",
       "      <th>2</th>\n",
       "      <td>Claudiane</td>\n",
       "      <td>2025-01-06</td>\n",
       "      <td>Porto Antilhas</td>\n",
       "      <td>ACLF Empreendimentos</td>\n",
       "      <td>Paulista</td>\n",
       "      <td>Nossa Sra. da Conceição</td>\n",
       "      <td>Av. Dr. Cláudio José Gueiros Leite, Nº 7935</td>\n",
       "      <td>53429-000</td>\n",
       "      <td>-7886948904247360</td>\n",
       "      <td>-34827240697313800</td>\n",
       "      <td>...</td>\n",
       "      <td>-</td>\n",
       "      <td>8</td>\n",
       "      <td>4</td>\n",
       "      <td>12</td>\n",
       "      <td>Sinal de R$30.200,00 + 24 Mensais de R$1.232,0...</td>\n",
       "      <td>Quadra Poliesportiva; Sala de convivência; Sal...</td>\n",
       "      <td>Sistema de Segurança; Portão Eletrônico; Cerca...</td>\n",
       "      <td>-</td>\n",
       "      <td>Usamos de referencia o apartamento 702,  para ...</td>\n",
       "      <td>Claudiane</td>\n",
       "    </tr>\n",
       "    <tr>\n",
       "      <th>3</th>\n",
       "      <td>Claudiane</td>\n",
       "      <td>2025-01-06</td>\n",
       "      <td>Mirante do Frio</td>\n",
       "      <td>ACLF Empreendimentos</td>\n",
       "      <td>Paulista</td>\n",
       "      <td>Jardim Paulista</td>\n",
       "      <td>Estrada do Fio</td>\n",
       "      <td>53401-000</td>\n",
       "      <td>-7947883703858420</td>\n",
       "      <td>-34885361538764200</td>\n",
       "      <td>...</td>\n",
       "      <td>13000</td>\n",
       "      <td>17</td>\n",
       "      <td>4</td>\n",
       "      <td>5</td>\n",
       "      <td>Produto ''SBPE'' - Sinal de 07 a 18% de acordo...</td>\n",
       "      <td>Piscina adulto, Piscina infantil, Espaço gourm...</td>\n",
       "      <td>100% de vagas de garagem, Guarita com controle...</td>\n",
       "      <td>Apartamento entregue com ceramica estamaltada ...</td>\n",
       "      <td>100% Vendido</td>\n",
       "      <td>Claudiane</td>\n",
       "    </tr>\n",
       "    <tr>\n",
       "      <th>4</th>\n",
       "      <td>Tâmara</td>\n",
       "      <td>2025-01-06</td>\n",
       "      <td>Vale do Capibaribe</td>\n",
       "      <td>AF Incorporações</td>\n",
       "      <td>Recife</td>\n",
       "      <td>Varzea</td>\n",
       "      <td>R. Dona Maria Lacerda, N° 358.</td>\n",
       "      <td>50741-010</td>\n",
       "      <td>-8.048 629 562 890 860</td>\n",
       "      <td>-34.962 300 662 280 790</td>\n",
       "      <td>...</td>\n",
       "      <td>12694.8</td>\n",
       "      <td>8</td>\n",
       "      <td>7</td>\n",
       "      <td>4</td>\n",
       "      <td>Produto \"Minha Casa Minha Vida\" - Sinal de R$ ...</td>\n",
       "      <td>Salão de Festas; Espaço Fitness; Brinquedoteca...</td>\n",
       "      <td>Guarita de Segurança com controle e portão aut...</td>\n",
       "      <td>-</td>\n",
       "      <td>Usamos como referencia para calculo medio o ap...</td>\n",
       "      <td>Tâmara</td>\n",
       "    </tr>\n",
       "  </tbody>\n",
       "</table>\n",
       "<p>5 rows × 37 columns</p>\n",
       "</div>"
      ],
      "text/plain": [
       "  Responsavel Data da Coleta       Nome do Empreendimento  \\\n",
       "0   Claudiane     2025-01-06  Condomínio Alameda do Frio    \n",
       "1   Claudiane     2025-01-06           Alameda dos Corais   \n",
       "2   Claudiane     2025-01-06               Porto Antilhas   \n",
       "3   Claudiane     2025-01-06             Mirante do Frio    \n",
       "4      Tâmara     2025-01-06          Vale do Capibaribe    \n",
       "\n",
       "  Construtora /Incorporadora    Cidade                   Bairro  \\\n",
       "0       ACLF Empreendimentos  Paulista   Jardim Paulista Aurora   \n",
       "1       ACLF Empreendimentos  Paulista  Nossa Sra. da Conceição   \n",
       "2       ACLF Empreendimentos  Paulista  Nossa Sra. da Conceição   \n",
       "3       ACLF Empreendimentos  Paulista         Jardim Paulista    \n",
       "4           AF Incorporações    Recife                   Varzea   \n",
       "\n",
       "                                      Endereço        CEP  \\\n",
       "0      Estrada do Frio - Aurora, Paulista - PE  53401-010   \n",
       "1                 Rua Papa João Paulo I , s/n.  53429-445   \n",
       "2  Av. Dr. Cláudio José Gueiros Leite, Nº 7935  53429-000   \n",
       "3                               Estrada do Fio  53401-000   \n",
       "4               R. Dona Maria Lacerda, N° 358.  50741-010   \n",
       "\n",
       "                Latitude                 Longitude  ...  Tamanho dos terrenos  \\\n",
       "0       -7946728444979800       -34885915517807000  ...                 25800   \n",
       "1       -7889291572553370       -34827309039381700  ...                     -   \n",
       "2       -7886948904247360       -34827240697313800  ...                     -   \n",
       "3       -7947883703858420       -34885361538764200  ...                 13000   \n",
       "4  -8.048 629 562 890 860  -34.962 300 662 280 790  ...               12694.8   \n",
       "\n",
       "   N° de pavimentos  Quantidade de imóvel por andar Quantidade de torres  \\\n",
       "0                 7                               4                   17   \n",
       "1                15                               4                    5   \n",
       "2                 8                               4                   12   \n",
       "3                17                               4                    5   \n",
       "4                 8                               7                    4   \n",
       "\n",
       "                                  Forma de Pagamento  \\\n",
       "0  Produto \"Minha Casa Minha Vida\" - Sinal de 3 a...   \n",
       "1  Produto \"Minha Casa Minha Vida\" - Sinal R$: 6....   \n",
       "2  Sinal de R$30.200,00 + 24 Mensais de R$1.232,0...   \n",
       "3  Produto ''SBPE'' - Sinal de 07 a 18% de acordo...   \n",
       "4  Produto \"Minha Casa Minha Vida\" - Sinal de R$ ...   \n",
       "\n",
       "                     Caracterização da Área de Lazer  \\\n",
       "0  Academia, bicicletários, espaço estar/contempl...   \n",
       "1  Campo de Futebol; Pet Place; Salão de Festa; E...   \n",
       "2  Quadra Poliesportiva; Sala de convivência; Sal...   \n",
       "3  Piscina adulto, Piscina infantil, Espaço gourm...   \n",
       "4  Salão de Festas; Espaço Fitness; Brinquedoteca...   \n",
       "\n",
       "                          Infraestrutura / Segurança  \\\n",
       "0                100% de bagas de garagem, guaritas.   \n",
       "1         Portaria; Sistema de Segurança; Interfone.   \n",
       "2  Sistema de Segurança; Portão Eletrônico; Cerca...   \n",
       "3  100% de vagas de garagem, Guarita com controle...   \n",
       "4  Guarita de Segurança com controle e portão aut...   \n",
       "\n",
       "                                 Nível de Acabamento  \\\n",
       "0  sala pra dois amabientes, cozinha isolada, esp...   \n",
       "1                                                  -   \n",
       "2                                                  -   \n",
       "3  Apartamento entregue com ceramica estamaltada ...   \n",
       "4                                                  -   \n",
       "\n",
       "                                          OBSERVAÇÃO  RESPONSÁVEL  \n",
       "0                                       100% Vendido    Claudiane  \n",
       "1  Usamos de referência o apartamento 303 para cá...    Claudiane  \n",
       "2  Usamos de referencia o apartamento 702,  para ...    Claudiane  \n",
       "3                                       100% Vendido    Claudiane  \n",
       "4  Usamos como referencia para calculo medio o ap...       Tâmara  \n",
       "\n",
       "[5 rows x 37 columns]"
      ]
     },
     "execution_count": 9,
     "metadata": {},
     "output_type": "execute_result"
    }
   ],
   "source": [
    "df.head()"
   ]
  },
  {
   "cell_type": "code",
   "execution_count": 31,
   "metadata": {},
   "outputs": [],
   "source": [
    "sheets = pd.read_excel(\"datasets/ivv-dezembro.xlsx\", sheet_name=None, engine=\"openpyxl\")"
   ]
  },
  {
   "cell_type": "code",
   "execution_count": null,
   "metadata": {},
   "outputs": [],
   "source": [
    "CASAS = sheets[\"CASAS \"]"
   ]
  },
  {
   "cell_type": "code",
   "execution_count": null,
   "metadata": {},
   "outputs": [],
   "source": [
    "print(CASAS.dtypes)"
   ]
  },
  {
   "cell_type": "code",
   "execution_count": 62,
   "metadata": {},
   "outputs": [],
   "source": [
    "QUARTOS_2 = pd.read_excel(\"datasets/ivv-dezembro.xlsx\", sheet_name=\"2 QUARTOS\", engine=\"openpyxl\")"
   ]
  },
  {
   "cell_type": "code",
   "execution_count": 64,
   "metadata": {},
   "outputs": [
    {
     "data": {
      "text/plain": [
       "Responsável                                 object\n",
       "Data da Coleta                      datetime64[ns]\n",
       "Nome do Empreendimento                      object\n",
       "Construtora /Incorporadora                  object\n",
       "Cidade                                      object\n",
       "Bairro                                      object\n",
       "Endereço                                    object\n",
       "CEP                                         object\n",
       "Latitude                                    object\n",
       "Longitude                                   object\n",
       "Nº de Quartos                                int64\n",
       "Suíte                                        int64\n",
       "Banheiros                                    int64\n",
       "Nº de vaga por unidade                      object\n",
       "Total de vagas no empreendimento             int64\n",
       "Inicio de comercialização                   object\n",
       "Entrega do imóvel                           object\n",
       "Fase do empreendimento                      object\n",
       "Unidades Ofertadas                           int64\n",
       "Unidades Vendidas                            int64\n",
       "Unidades em Estoque                          int64\n",
       "% Vendido                                  float64\n",
       "Preço Médio  M²                            float64\n",
       "Preço do imóvel                            float64\n",
       "Valor de Avaliação                          object\n",
       "Área do imóvel em m²                       float64\n",
       "Número de elevadores                        object\n",
       "Tamanho dos terrenos                        object\n",
       "N° de pavimentos                             int64\n",
       "Quantidade de imóvel por andar              object\n",
       "Quantidade de torres                         int64\n",
       "Forma de Pagamento                          object\n",
       "Caracterização da Área de Lazer             object\n",
       "Infraestrutura / Segurança                  object\n",
       "Nível de Acabamento                         object\n",
       "OBSERVAÇÃO                                  object\n",
       "RESPONSÁVEL                                 object\n",
       "dtype: object"
      ]
     },
     "execution_count": 64,
     "metadata": {},
     "output_type": "execute_result"
    }
   ],
   "source": [
    "QUARTOS_2.dtypes"
   ]
  },
  {
   "cell_type": "code",
   "execution_count": 51,
   "metadata": {},
   "outputs": [
    {
     "name": "stdout",
     "output_type": "stream",
     "text": [
      "Valor de Avaliação\n",
      "<class 'str'>      167\n",
      "<class 'int'>       39\n",
      "<class 'float'>     14\n",
      "Name: count, dtype: int64\n"
     ]
    }
   ],
   "source": [
    "print(QUARTOS_2[\"Valor de Avaliação\"].apply(type).value_counts())"
   ]
  },
  {
   "cell_type": "code",
   "execution_count": 65,
   "metadata": {},
   "outputs": [
    {
     "name": "stderr",
     "output_type": "stream",
     "text": [
      "C:\\Users\\maria\\AppData\\Local\\Temp\\ipykernel_9672\\3114665645.py:4: FutureWarning: Downcasting behavior in `replace` is deprecated and will be removed in a future version. To retain the old behavior, explicitly call `result.infer_objects(copy=False)`. To opt-in to the future behavior, set `pd.set_option('future.no_silent_downcasting', True)`\n",
      "  QUARTOS_2[\"Valor de Avaliação\"] = QUARTOS_2[\"Valor de Avaliação\"].replace(\"-\", np.nan)\n"
     ]
    }
   ],
   "source": [
    "import numpy as np\n",
    "QUARTOS_2 = pd.read_excel(\"datasets/ivv-dezembro.xlsx\", engine=\"openpyxl\")\n",
    "\n",
    "QUARTOS_2[\"Valor de Avaliação\"] = QUARTOS_2[\"Valor de Avaliação\"].replace(\"-\", np.nan)\n",
    "\n",
    "QUARTOS_2[\"Valor de Avaliação\"] = QUARTOS_2[\"Valor de Avaliação\"].astype(float)"
   ]
  },
  {
   "cell_type": "code",
   "execution_count": 61,
   "metadata": {},
   "outputs": [
    {
     "name": "stdout",
     "output_type": "stream",
     "text": [
      "0     195000.0\n",
      "1     241000.0\n",
      "2          NaN\n",
      "3     294600.0\n",
      "4     270750.0\n",
      "        ...   \n",
      "83    230400.0\n",
      "84    240000.0\n",
      "85    131000.0\n",
      "86    280000.0\n",
      "87         NaN\n",
      "Name: Valor de Avaliação, Length: 88, dtype: float64\n"
     ]
    }
   ],
   "source": [
    "print(QUARTOS_2[\"Valor de Avaliação\"])"
   ]
  },
  {
   "cell_type": "code",
   "execution_count": null,
   "metadata": {},
   "outputs": [],
   "source": [
    "QUARTOS_2 = pd.read_excel(\"datasets/ivv-dezembro.xlsx\", dtype={\"Valor de Avaliação\": float}, engine=\"openpyxl\")"
   ]
  },
  {
   "cell_type": "code",
   "execution_count": null,
   "metadata": {},
   "outputs": [],
   "source": [
    "print(QUARTOS_2[\"Valor de Avaliação\"].apply(type).value_counts())"
   ]
  }
 ],
 "metadata": {
  "kernelspec": {
   "display_name": "env",
   "language": "python",
   "name": "python3"
  },
  "language_info": {
   "codemirror_mode": {
    "name": "ipython",
    "version": 3
   },
   "file_extension": ".py",
   "mimetype": "text/x-python",
   "name": "python",
   "nbconvert_exporter": "python",
   "pygments_lexer": "ipython3",
   "version": "3.12.6"
  }
 },
 "nbformat": 4,
 "nbformat_minor": 2
}
