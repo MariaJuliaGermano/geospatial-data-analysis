{
 "cells": [
  {
   "cell_type": "code",
   "execution_count": 1,
   "metadata": {},
   "outputs": [],
   "source": [
    "import pandas as pd\n",
    "import numpy as np"
   ]
  },
  {
   "cell_type": "code",
   "execution_count": 25,
   "metadata": {},
   "outputs": [],
   "source": [
    "MCMV = pd.read_excel(\"datasets/ivv-dezembro.xlsx\", sheet_name=\"MCMV - 350 MIL\", engine=\"openpyxl\")"
   ]
  },
  {
   "cell_type": "code",
   "execution_count": null,
   "metadata": {},
   "outputs": [],
   "source": [
    "MCMV"
   ]
  },
  {
   "cell_type": "code",
   "execution_count": 38,
   "metadata": {},
   "outputs": [
    {
     "name": "stdout",
     "output_type": "stream",
     "text": [
      "[25800 '-' 13000 12694.8 18514.75 33000 21165.88 9380.17 21403.81 20000\n",
      " 12000 21236.77 19955 11993.1 27377.93 13008.65 19797.34 '9.555,96 '\n",
      " '21.188,96 ' 22671.61 25409.51 12300 16100 10000 25000 180100 149100\n",
      " 7809.63 '19.289,03' 9164.55 26873.3 9966.22 10448.78 24647.87 8000 5300\n",
      " 4600 22605.7]\n"
     ]
    }
   ],
   "source": [
    "valores_unicos = MCMV[\"Tamanho dos terrenos\"].unique()\n",
    "print(valores_unicos)"
   ]
  },
  {
   "cell_type": "code",
   "execution_count": null,
   "metadata": {},
   "outputs": [],
   "source": []
  }
 ],
 "metadata": {
  "kernelspec": {
   "display_name": "env",
   "language": "python",
   "name": "python3"
  },
  "language_info": {
   "codemirror_mode": {
    "name": "ipython",
    "version": 3
   },
   "file_extension": ".py",
   "mimetype": "text/x-python",
   "name": "python",
   "nbconvert_exporter": "python",
   "pygments_lexer": "ipython3",
   "version": "3.12.6"
  }
 },
 "nbformat": 4,
 "nbformat_minor": 2
}
